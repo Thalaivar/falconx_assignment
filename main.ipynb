{
 "cells": [
  {
   "cell_type": "code",
   "execution_count": 32,
   "id": "feaf56d8",
   "metadata": {},
   "outputs": [],
   "source": [
    "import json\n",
    "import pandas as pd"
   ]
  },
  {
   "cell_type": "code",
   "execution_count": 33,
   "id": "dfca3e7a",
   "metadata": {},
   "outputs": [],
   "source": [
    "with open(\"./query.json\", 'r') as f:\n",
    "    data = json.load(f)['data']['swaps']\n",
    "for d in data:\n",
    "    d[\"transaction_blockNumber\"] = d[\"transaction\"][\"blockNumber\"]\n",
    "    del d[\"transaction\"]"
   ]
  },
  {
   "cell_type": "code",
   "execution_count": 35,
   "id": "bf4f3ad8",
   "metadata": {},
   "outputs": [
    {
     "data": {
      "text/plain": [
       "{'token0': {'id': '0x1f9840a85d5af5bf1d1762f925bdaddc4201f984',\n",
       "  'symbol': 'UNI',\n",
       "  'totalLiquidity': '2363944.259085216407738225',\n",
       "  'tradeVolume': '764102934.247673078083762688',\n",
       "  'tradeVolumeUSD': '6641763769.211965729347119956335644'},\n",
       " 'token1': {'id': '0xc02aaa39b223fe8d0a0e5c4f27ead9083c756cc2',\n",
       "  'symbol': 'WETH',\n",
       "  'totalLiquidity': '744520.292490940177891607',\n",
       "  'tradeVolume': '243285297.752672420784451769',\n",
       "  'tradeVolumeUSD': '272023920330.3513747372090367518784'},\n",
       " 'totalSupply': '104813.532696929188491861',\n",
       " 'volumeUSD': '6632808391.534398018046656895402182'}"
      ]
     },
     "execution_count": 35,
     "metadata": {},
     "output_type": "execute_result"
    }
   ],
   "source": [
    "data[0][\"pair\"]"
   ]
  },
  {
   "cell_type": "code",
   "execution_count": 43,
   "id": "4fb52b01",
   "metadata": {},
   "outputs": [],
   "source": [
    "fields = [field for field in data[0].keys() if field != \"pair\"]\n",
    "token_fields = []\n",
    "for i in range(2):\n",
    "    token_fields.extend([f\"token{i}_{field}\" for field in data[0][\"pair\"][f\"token{i}\"] if field not in [\"id\", \"symbol\"]])\n",
    "token_fields.extend([field for field in data[0][\"pair\"].keys() if \"token\" not in field])"
   ]
  },
  {
   "cell_type": "code",
   "execution_count": 5,
   "id": "a523e222",
   "metadata": {},
   "outputs": [],
   "source": [
    "rawdf = {field: [] for field in fields}\n",
    "for d in data:\n",
    "    for field in rawdf.keys():\n",
    "        if \"token\" in field:\n",
    "            token, token_field = field.split('_')\n",
    "            rawdf[field].append(d[\"pair\"][token][token_field])\n",
    "        else:\n",
    "            rawdf[field].append(d[field])\n",
    "rawdf = pd.DataFrame.from_dict(rawdf)"
   ]
  },
  {
   "cell_type": "code",
   "execution_count": 6,
   "id": "20a65743",
   "metadata": {},
   "outputs": [],
   "source": [
    "symbols = [data[0][\"pair\"][f\"token{i}\"][\"symbol\"] for i in range(2)]\n",
    "\n",
    "rename_cols = {}\n",
    "for col in rawdf.columns:\n",
    "    if \"amount\" in col:\n",
    "        idx = int(col[col.find(\"amount\") + 6])\n",
    "        rename_cols[col] = col.replace(f\"amount{idx}\", f\"{symbols[idx]}_\")\n",
    "    if \"token\" in col:\n",
    "        idx = int(col[col.find(\"token\") + 5])\n",
    "        rename_cols[col] = col.replace(f\"token{idx}\", f\"{symbols[idx]}\")\n",
    "rawdf = rawdf.rename(rename_cols, axis=1)"
   ]
  },
  {
   "cell_type": "code",
   "execution_count": 15,
   "id": "a45125a9",
   "metadata": {},
   "outputs": [],
   "source": [
    "df = rawdf.copy()\n",
    "for col in rawdf.columns:\n",
    "    if col != \"id\":\n",
    "        df[col] = rawdf[col].astype(float)\n",
    "    else:\n",
    "        df[col] = rawdf[col].astype(\"string\")"
   ]
  },
  {
   "cell_type": "code",
   "execution_count": 27,
   "id": "d7eff25b",
   "metadata": {},
   "outputs": [],
   "source": [
    "side = [\"Sell\" if df.loc[i, \"UNI_In\"] > 0 else \"Buy\" for i in range(df.shape[0])]\n",
    "df[\"Side\"] = pd.Series(side, dtype=\"string\")"
   ]
  },
  {
   "cell_type": "markdown",
   "id": "90c00fbf",
   "metadata": {},
   "source": [
    ": Timestamp, Side (Buy or Sell),\n",
    "Base currency quantity traded, Quote currency quantity traded, Volume in USD, Liquidity in pool,\n",
    "Pool ID."
   ]
  },
  {
   "cell_type": "code",
   "execution_count": 30,
   "id": "30855efb",
   "metadata": {},
   "outputs": [
    {
     "data": {
      "text/plain": [
       "Index(['UNI_In', 'UNI_Out', 'WETH_In', 'WETH_Out', 'id', 'timestamp',\n",
       "       'transaction_blockNumber', 'UNI_totalLiquidity', 'UNI_tradeVolume',\n",
       "       'UNI_tradeVolumeUSD', 'WETH_totalLiquidity', 'WETH_tradeVolume',\n",
       "       'WETH_tradeVolumeUSD', 'Side'],\n",
       "      dtype='object')"
      ]
     },
     "execution_count": 30,
     "metadata": {},
     "output_type": "execute_result"
    }
   ],
   "source": [
    "df.columns"
   ]
  },
  {
   "cell_type": "code",
   "execution_count": 31,
   "id": "1428573d",
   "metadata": {
    "scrolled": true
   },
   "outputs": [],
   "source": [
    "cols = {\n",
    "    \"timestamp\": \"Timestamp\",\n",
    "    \"Side\": \"Side\",\n",
    "    \"UNI_tradeVolume\": \"Base Currency Vol.\",\n",
    "    \"WETH_tradeVolume\": \"Quote Currency Vol.\",\n",
    "    \"\"\n",
    "}\n",
    "col_order = [\"timestamp\", \"Side\", \"UNI\"]"
   ]
  },
  {
   "cell_type": "code",
   "execution_count": null,
   "id": "3a62f7e2",
   "metadata": {},
   "outputs": [],
   "source": []
  }
 ],
 "metadata": {
  "kernelspec": {
   "display_name": "Python 3",
   "language": "python",
   "name": "python3"
  },
  "language_info": {
   "codemirror_mode": {
    "name": "ipython",
    "version": 3
   },
   "file_extension": ".py",
   "mimetype": "text/x-python",
   "name": "python",
   "nbconvert_exporter": "python",
   "pygments_lexer": "ipython3",
   "version": "3.7.10"
  }
 },
 "nbformat": 4,
 "nbformat_minor": 5
}
