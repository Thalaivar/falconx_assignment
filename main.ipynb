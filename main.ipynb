{
 "cells": [
  {
   "cell_type": "code",
   "execution_count": 1,
   "id": "34a90fd4",
   "metadata": {},
   "outputs": [],
   "source": [
    "import json\n",
    "import pandas as pd\n",
    "from datetime import datetime"
   ]
  },
  {
   "cell_type": "code",
   "execution_count": 2,
   "id": "c54430a9",
   "metadata": {},
   "outputs": [],
   "source": [
    "with open(\"./query.json\", 'r') as f:\n",
    "    data = json.load(f)['data']['swaps']\n",
    "for d in data:\n",
    "    d[\"transaction_blockNumber\"] = d[\"transaction\"][\"blockNumber\"]\n",
    "    del d[\"transaction\"]"
   ]
  },
  {
   "cell_type": "code",
   "execution_count": 3,
   "id": "6d291b80",
   "metadata": {},
   "outputs": [],
   "source": [
    "swap_fields = [field for field in data[0].keys() if field != \"pair\"]\n",
    "token_fields = []\n",
    "for i in range(2):\n",
    "    token_fields.extend([f\"token{i}_{field}\" for field in data[0][\"pair\"][f\"token{i}\"] if field not in [\"id\", \"symbol\"]])\n",
    "token_fields.extend([field for field in data[0][\"pair\"].keys() if \"token\" not in field])"
   ]
  },
  {
   "cell_type": "code",
   "execution_count": 4,
   "id": "eaf518d5",
   "metadata": {},
   "outputs": [],
   "source": [
    "rawdf = {field: [] for field in swap_fields}\n",
    "for field in token_fields:\n",
    "    rawdf[field] = []\n",
    "    \n",
    "for d in data:\n",
    "    for field in rawdf.keys():\n",
    "        if field in token_fields:\n",
    "            if \"token\" in field:\n",
    "                token, token_field = field.split('_')\n",
    "                rawdf[field].append(d[\"pair\"][token][token_field])\n",
    "            else:\n",
    "                rawdf[field].append(d[\"pair\"][field])\n",
    "        else:\n",
    "            rawdf[field].append(d[field])\n",
    "rawdf = pd.DataFrame.from_dict(rawdf)"
   ]
  },
  {
   "cell_type": "code",
   "execution_count": 5,
   "id": "f1bf9f0f",
   "metadata": {},
   "outputs": [],
   "source": [
    "symbols = [data[0][\"pair\"][f\"token{i}\"][\"symbol\"] for i in range(2)]\n",
    "\n",
    "rename_cols = {}\n",
    "for col in rawdf.columns:\n",
    "    if \"amount\" in col:\n",
    "        idx = int(col[col.find(\"amount\") + 6])\n",
    "        rename_cols[col] = col.replace(f\"amount{idx}\", f\"{symbols[idx]}_\")\n",
    "    if \"token\" in col:\n",
    "        idx = int(col[col.find(\"token\") + 5])\n",
    "        rename_cols[col] = col.replace(f\"token{idx}\", f\"{symbols[idx]}\")\n",
    "rawdf = rawdf.rename(rename_cols, axis=1)"
   ]
  },
  {
   "cell_type": "code",
   "execution_count": 6,
   "id": "a021930b",
   "metadata": {},
   "outputs": [],
   "source": [
    "df = rawdf.copy()\n",
    "for col in rawdf.columns:\n",
    "    if col != \"id\":\n",
    "        df[col] = rawdf[col].astype(float)\n",
    "    else:\n",
    "        df[col] = rawdf[col].astype(\"string\")"
   ]
  },
  {
   "cell_type": "code",
   "execution_count": 7,
   "id": "6e8a52ec",
   "metadata": {},
   "outputs": [],
   "source": [
    "side = [\"Sell\" if df.loc[i, \"UNI_In\"] > 0 else \"Buy\" for i in range(df.shape[0])]\n",
    "df[\"Side\"] = pd.Series(side, dtype=\"string\")"
   ]
  },
  {
   "cell_type": "code",
   "execution_count": 8,
   "id": "5710273e",
   "metadata": {
    "scrolled": true
   },
   "outputs": [],
   "source": [
    "cols = {\n",
    "    \"timestamp\": \"Timestamp\",\n",
    "    \"Side\": \"Side\",\n",
    "    \"UNI_tradeVolume\": \"Base Currency Vol.\",\n",
    "    \"WETH_tradeVolume\": \"Quote Currency Vol.\",\n",
    "    \"volumeUSD\": \"Vol. (USD)\",\n",
    "    \"totalSupply\": \"Liquidity in Pool\",\n",
    "    \"id\": \"PoolID\"\n",
    "}\n",
    "df = df.rename(cols, axis=1)\n",
    "df = df[[colname for _, colname in cols.items()]]"
   ]
  },
  {
   "cell_type": "code",
   "execution_count": 9,
   "id": "819100f9",
   "metadata": {},
   "outputs": [],
   "source": [
    "for i in range(df.shape[0]):\n",
    "    df.loc[i, \"Timestamp\"] = datetime.utcfromtimestamp(int(df.loc[i, \"Timestamp\"])).strftime('%Y-%m-%d %H:%M:%S')"
   ]
  },
  {
   "cell_type": "code",
   "execution_count": 11,
   "id": "ad976ac3",
   "metadata": {},
   "outputs": [
    {
     "data": {
      "text/html": [
       "<div>\n",
       "<style scoped>\n",
       "    .dataframe tbody tr th:only-of-type {\n",
       "        vertical-align: middle;\n",
       "    }\n",
       "\n",
       "    .dataframe tbody tr th {\n",
       "        vertical-align: top;\n",
       "    }\n",
       "\n",
       "    .dataframe thead th {\n",
       "        text-align: right;\n",
       "    }\n",
       "</style>\n",
       "<table border=\"1\" class=\"dataframe\">\n",
       "  <thead>\n",
       "    <tr style=\"text-align: right;\">\n",
       "      <th></th>\n",
       "      <th>Timestamp</th>\n",
       "      <th>Side</th>\n",
       "      <th>Base Currency Vol.</th>\n",
       "      <th>Quote Currency Vol.</th>\n",
       "      <th>Vol. (USD)</th>\n",
       "      <th>Liquidity in Pool</th>\n",
       "      <th>PoolID</th>\n",
       "    </tr>\n",
       "  </thead>\n",
       "  <tbody>\n",
       "    <tr>\n",
       "      <th>0</th>\n",
       "      <td>2021-06-18 07:32:19</td>\n",
       "      <td>Sell</td>\n",
       "      <td>7.641089e+08</td>\n",
       "      <td>2.432909e+08</td>\n",
       "      <td>6.632907e+09</td>\n",
       "      <td>104814.119473</td>\n",
       "      <td>0x839549af1837381eb2f13a49fb506a036f0aa5f57577...</td>\n",
       "    </tr>\n",
       "    <tr>\n",
       "      <th>1</th>\n",
       "      <td>2021-06-18 07:32:19</td>\n",
       "      <td>Buy</td>\n",
       "      <td>7.641089e+08</td>\n",
       "      <td>2.432909e+08</td>\n",
       "      <td>6.632907e+09</td>\n",
       "      <td>104814.119473</td>\n",
       "      <td>0x069f018c8599612d3f2a9d5c30cd4ecbeefd8f3c3fbf...</td>\n",
       "    </tr>\n",
       "    <tr>\n",
       "      <th>2</th>\n",
       "      <td>2021-06-18 07:29:54</td>\n",
       "      <td>Sell</td>\n",
       "      <td>7.641089e+08</td>\n",
       "      <td>2.432909e+08</td>\n",
       "      <td>6.632907e+09</td>\n",
       "      <td>104814.119473</td>\n",
       "      <td>0xf1aed41c1b14097be325a6e423afe663c2e05c5bfc5b...</td>\n",
       "    </tr>\n",
       "    <tr>\n",
       "      <th>3</th>\n",
       "      <td>2021-06-18 07:29:39</td>\n",
       "      <td>Sell</td>\n",
       "      <td>7.641089e+08</td>\n",
       "      <td>2.432909e+08</td>\n",
       "      <td>6.632907e+09</td>\n",
       "      <td>104814.119473</td>\n",
       "      <td>0xc97e17874621de8499c3a5306803e2a1d0341a959e6e...</td>\n",
       "    </tr>\n",
       "    <tr>\n",
       "      <th>4</th>\n",
       "      <td>2021-06-18 07:09:54</td>\n",
       "      <td>Buy</td>\n",
       "      <td>7.641089e+08</td>\n",
       "      <td>2.432909e+08</td>\n",
       "      <td>6.632907e+09</td>\n",
       "      <td>104814.119473</td>\n",
       "      <td>0xf4497291493973ee75040f235e37be2c5ddfe0bba420...</td>\n",
       "    </tr>\n",
       "  </tbody>\n",
       "</table>\n",
       "</div>"
      ],
      "text/plain": [
       "             Timestamp  Side  Base Currency Vol.  Quote Currency Vol.  \\\n",
       "0  2021-06-18 07:32:19  Sell        7.641089e+08         2.432909e+08   \n",
       "1  2021-06-18 07:32:19   Buy        7.641089e+08         2.432909e+08   \n",
       "2  2021-06-18 07:29:54  Sell        7.641089e+08         2.432909e+08   \n",
       "3  2021-06-18 07:29:39  Sell        7.641089e+08         2.432909e+08   \n",
       "4  2021-06-18 07:09:54   Buy        7.641089e+08         2.432909e+08   \n",
       "\n",
       "     Vol. (USD)  Liquidity in Pool  \\\n",
       "0  6.632907e+09      104814.119473   \n",
       "1  6.632907e+09      104814.119473   \n",
       "2  6.632907e+09      104814.119473   \n",
       "3  6.632907e+09      104814.119473   \n",
       "4  6.632907e+09      104814.119473   \n",
       "\n",
       "                                              PoolID  \n",
       "0  0x839549af1837381eb2f13a49fb506a036f0aa5f57577...  \n",
       "1  0x069f018c8599612d3f2a9d5c30cd4ecbeefd8f3c3fbf...  \n",
       "2  0xf1aed41c1b14097be325a6e423afe663c2e05c5bfc5b...  \n",
       "3  0xc97e17874621de8499c3a5306803e2a1d0341a959e6e...  \n",
       "4  0xf4497291493973ee75040f235e37be2c5ddfe0bba420...  "
      ]
     },
     "execution_count": 11,
     "metadata": {},
     "output_type": "execute_result"
    }
   ],
   "source": [
    "df.head()"
   ]
  },
  {
   "cell_type": "code",
   "execution_count": null,
   "id": "62d51767",
   "metadata": {},
   "outputs": [],
   "source": []
  }
 ],
 "metadata": {
  "kernelspec": {
   "display_name": "Python 3",
   "language": "python",
   "name": "python3"
  },
  "language_info": {
   "codemirror_mode": {
    "name": "ipython",
    "version": 3
   },
   "file_extension": ".py",
   "mimetype": "text/x-python",
   "name": "python",
   "nbconvert_exporter": "python",
   "pygments_lexer": "ipython3",
   "version": "3.7.10"
  }
 },
 "nbformat": 4,
 "nbformat_minor": 5
}
