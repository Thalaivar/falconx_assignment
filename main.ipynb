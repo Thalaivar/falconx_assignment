{
 "cells": [
  {
   "cell_type": "code",
   "execution_count": 1,
   "id": "6be827f2",
   "metadata": {},
   "outputs": [],
   "source": [
    "import json\n",
    "import pandas as pd"
   ]
  },
  {
   "cell_type": "code",
   "execution_count": 2,
   "id": "7952cec4",
   "metadata": {},
   "outputs": [],
   "source": [
    "with open(\"./query.json\", 'r') as f:\n",
    "    data = json.load(f)['data']['swaps']\n",
    "for d in data:\n",
    "    d[\"transaction_blockNumber\"] = d[\"transaction\"][\"blockNumber\"]\n",
    "    del d[\"transaction\"]"
   ]
  },
  {
   "cell_type": "code",
   "execution_count": 3,
   "id": "0c9e563f",
   "metadata": {},
   "outputs": [
    {
     "data": {
      "text/plain": [
       "{'amount0In': '70.747260165322752132',\n",
       " 'amount0Out': '0',\n",
       " 'amount1In': '0',\n",
       " 'amount1Out': '0.608917827698621792',\n",
       " 'id': '0xd655a1e18631ab5d1ff0c089c79621eecb4487cdf42a43905490258db284ff0a-0',\n",
       " 'pair': {'token0': {'id': '0x1f9840a85d5af5bf1d1762f925bdaddc4201f984',\n",
       "   'symbol': 'UNI',\n",
       "   'totalLiquidity': '2367369.009729215038093377',\n",
       "   'tradeVolume': '764099171.532566210480943776',\n",
       "   'tradeVolumeUSD': '6641705341.919281754977178013108196'},\n",
       "  'token1': {'id': '0xc02aaa39b223fe8d0a0e5c4f27ead9083c756cc2',\n",
       "   'symbol': 'WETH',\n",
       "   'totalLiquidity': '742987.744995710631690356',\n",
       "   'tradeVolume': '243278168.81885744295780905',\n",
       "   'tradeVolumeUSD': '272010992073.2826765029025952385042'}},\n",
       " 'timestamp': '1624379026',\n",
       " 'transaction_blockNumber': '12685071'}"
      ]
     },
     "execution_count": 3,
     "metadata": {},
     "output_type": "execute_result"
    }
   ],
   "source": [
    "data[0]"
   ]
  },
  {
   "cell_type": "code",
   "execution_count": 4,
   "id": "3cbffd65",
   "metadata": {},
   "outputs": [],
   "source": [
    "fields = [field for field in data[0].keys() if field != \"pair\"]\n",
    "for token in data[0][\"pair\"].keys():\n",
    "    fields.extend([f\"{token}_{field}\" for field in data[0][\"pair\"][token] if field not in [\"id\", \"symbol\"]])"
   ]
  },
  {
   "cell_type": "code",
   "execution_count": 5,
   "id": "58cd7eeb",
   "metadata": {},
   "outputs": [],
   "source": [
    "rawdf = {field: [] for field in fields}\n",
    "for d in data:\n",
    "    for field in rawdf.keys():\n",
    "        if \"token\" in field:\n",
    "            token, token_field = field.split('_')\n",
    "            rawdf[field].append(d[\"pair\"][token][token_field])\n",
    "        else:\n",
    "            rawdf[field].append(d[field])\n",
    "rawdf = pd.DataFrame.from_dict(rawdf)"
   ]
  },
  {
   "cell_type": "code",
   "execution_count": 6,
   "id": "4b3af683",
   "metadata": {},
   "outputs": [],
   "source": [
    "symbols = [data[0][\"pair\"][f\"token{i}\"][\"symbol\"] for i in range(2)]\n",
    "\n",
    "rename_cols = {}\n",
    "for col in rawdf.columns:\n",
    "    if \"amount\" in col:\n",
    "        idx = int(col[col.find(\"amount\") + 6])\n",
    "        rename_cols[col] = col.replace(f\"amount{idx}\", f\"{symbols[idx]}_\")\n",
    "    if \"token\" in col:\n",
    "        idx = int(col[col.find(\"token\") + 5])\n",
    "        rename_cols[col] = col.replace(f\"token{idx}\", f\"{symbols[idx]}\")\n",
    "rawdf = rawdf.rename(rename_cols, axis=1)"
   ]
  },
  {
   "cell_type": "code",
   "execution_count": 8,
   "id": "63b65969",
   "metadata": {},
   "outputs": [
    {
     "data": {
      "text/plain": [
       "array(['2367369.009729215038093377'], dtype=object)"
      ]
     },
     "execution_count": 8,
     "metadata": {},
     "output_type": "execute_result"
    }
   ],
   "source": []
  },
  {
   "cell_type": "code",
   "execution_count": null,
   "id": "caba0514",
   "metadata": {},
   "outputs": [],
   "source": []
  }
 ],
 "metadata": {
  "kernelspec": {
   "display_name": "Python 3",
   "language": "python",
   "name": "python3"
  },
  "language_info": {
   "codemirror_mode": {
    "name": "ipython",
    "version": 3
   },
   "file_extension": ".py",
   "mimetype": "text/x-python",
   "name": "python",
   "nbconvert_exporter": "python",
   "pygments_lexer": "ipython3",
   "version": "3.7.10"
  }
 },
 "nbformat": 4,
 "nbformat_minor": 5
}
