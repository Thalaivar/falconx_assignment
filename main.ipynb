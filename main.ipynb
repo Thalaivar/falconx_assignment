{
 "cells": [
  {
   "cell_type": "code",
   "execution_count": 32,
   "id": "e9925e3d",
   "metadata": {},
   "outputs": [],
   "source": [
    "import json\n",
    "import pandas as pd"
   ]
  },
  {
   "cell_type": "code",
   "execution_count": 33,
   "id": "7769b78e",
   "metadata": {},
   "outputs": [],
   "source": [
    "with open(\"./query.json\", 'r') as f:\n",
    "    data = json.load(f)['data']['swaps']\n",
    "for d in data:\n",
    "    d[\"transaction_blockNumber\"] = d[\"transaction\"][\"blockNumber\"]\n",
    "    del d[\"transaction\"]"
   ]
  },
  {
   "cell_type": "code",
   "execution_count": 47,
   "id": "8560c944",
   "metadata": {},
   "outputs": [],
   "source": [
    "swap_fields = [field for field in data[0].keys() if field != \"pair\"]\n",
    "token_fields = []\n",
    "for i in range(2):\n",
    "    token_fields.extend([f\"token{i}_{field}\" for field in data[0][\"pair\"][f\"token{i}\"] if field not in [\"id\", \"symbol\"]])\n",
    "token_fields.extend([field for field in data[0][\"pair\"].keys() if \"token\" not in field])"
   ]
  },
  {
   "cell_type": "code",
   "execution_count": 51,
   "id": "5c5b5aa6",
   "metadata": {},
   "outputs": [],
   "source": [
    "rawdf = {field: [] for field in swap_fields}\n",
    "for field in token_fields:\n",
    "    rawdf[field] = []\n",
    "    \n",
    "for d in data:\n",
    "    for field in rawdf.keys():\n",
    "        if field in token_fields:\n",
    "            if \"token\" in field:\n",
    "                token, token_field = field.split('_')\n",
    "                rawdf[field].append(d[\"pair\"][token][token_field])\n",
    "            else:\n",
    "                rawdf[field].append(d[\"pair\"][field])\n",
    "        else:\n",
    "            rawdf[field].append(d[field])\n",
    "rawdf = pd.DataFrame.from_dict(rawdf)"
   ]
  },
  {
   "cell_type": "code",
   "execution_count": 53,
   "id": "8f3d80f6",
   "metadata": {},
   "outputs": [],
   "source": [
    "symbols = [data[0][\"pair\"][f\"token{i}\"][\"symbol\"] for i in range(2)]\n",
    "\n",
    "rename_cols = {}\n",
    "for col in rawdf.columns:\n",
    "    if \"amount\" in col:\n",
    "        idx = int(col[col.find(\"amount\") + 6])\n",
    "        rename_cols[col] = col.replace(f\"amount{idx}\", f\"{symbols[idx]}_\")\n",
    "    if \"token\" in col:\n",
    "        idx = int(col[col.find(\"token\") + 5])\n",
    "        rename_cols[col] = col.replace(f\"token{idx}\", f\"{symbols[idx]}\")\n",
    "rawdf = rawdf.rename(rename_cols, axis=1)"
   ]
  },
  {
   "cell_type": "code",
   "execution_count": 55,
   "id": "6ff3c0f5",
   "metadata": {},
   "outputs": [],
   "source": [
    "df = rawdf.copy()\n",
    "for col in rawdf.columns:\n",
    "    if col != \"id\":\n",
    "        df[col] = rawdf[col].astype(float)\n",
    "    else:\n",
    "        df[col] = rawdf[col].astype(\"string\")"
   ]
  },
  {
   "cell_type": "code",
   "execution_count": 56,
   "id": "3880e4f0",
   "metadata": {},
   "outputs": [],
   "source": [
    "side = [\"Sell\" if df.loc[i, \"UNI_In\"] > 0 else \"Buy\" for i in range(df.shape[0])]\n",
    "df[\"Side\"] = pd.Series(side, dtype=\"string\")"
   ]
  },
  {
   "cell_type": "code",
   "execution_count": 59,
   "id": "547e88b1",
   "metadata": {
    "scrolled": true
   },
   "outputs": [],
   "source": [
    "cols = {\n",
    "    \"timestamp\": \"Timestamp\",\n",
    "    \"Side\": \"Side\",\n",
    "    \"UNI_tradeVolume\": \"Base Currency Vol.\",\n",
    "    \"WETH_tradeVolume\": \"Quote Currency Vol.\",\n",
    "    \"volumeUSD\": \"Vol. (USD)\",\n",
    "    \"totalSupply\": \"Liquidity in Pool\",\n",
    "    \"id\": \"PoolID\"\n",
    "}\n",
    "df = df.rename(cols, axis=1)\n",
    "df = df[[colname for _, colname in cols.items()]]"
   ]
  },
  {
   "cell_type": "code",
   "execution_count": 61,
   "id": "ea033de4",
   "metadata": {},
   "outputs": [
    {
     "name": "stdout",
     "output_type": "stream",
     "text": [
      "<class 'pandas.core.frame.DataFrame'>\n",
      "RangeIndex: 1000 entries, 0 to 999\n",
      "Data columns (total 7 columns):\n",
      " #   Column               Non-Null Count  Dtype  \n",
      "---  ------               --------------  -----  \n",
      " 0   Timestamp            1000 non-null   float64\n",
      " 1   Side                 1000 non-null   string \n",
      " 2   Base Currency Vol.   1000 non-null   float64\n",
      " 3   Quote Currency Vol.  1000 non-null   float64\n",
      " 4   Vol. (USD)           1000 non-null   float64\n",
      " 5   Liquidity in Pool    1000 non-null   float64\n",
      " 6   PoolID               1000 non-null   string \n",
      "dtypes: float64(5), string(2)\n",
      "memory usage: 54.8 KB\n"
     ]
    }
   ],
   "source": [
    "df.info()"
   ]
  }
 ],
 "metadata": {
  "kernelspec": {
   "display_name": "Python 3",
   "language": "python",
   "name": "python3"
  },
  "language_info": {
   "codemirror_mode": {
    "name": "ipython",
    "version": 3
   },
   "file_extension": ".py",
   "mimetype": "text/x-python",
   "name": "python",
   "nbconvert_exporter": "python",
   "pygments_lexer": "ipython3",
   "version": "3.7.10"
  }
 },
 "nbformat": 4,
 "nbformat_minor": 5
}
